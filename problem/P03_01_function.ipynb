{
 "cells": [
  {
   "cell_type": "markdown",
   "metadata": {},
   "source": [
    "# `abs(x)`\n",
    "\n",
    "> 절대값은 숫자(int, float)가 들어오면 절대값을 반환하고, 복소수(complex)가 들어오면 그 크기를 반환합니다.\n",
    "> \n",
    "> `my_abs(x)`를 만들어보세요."
   ]
  },
  {
   "cell_type": "markdown",
   "metadata": {},
   "source": [
    "**공식문서**\n",
    "<center>\n",
    "    <img src=\"./images/P01/abs0.png\", alt=\"\">\n",
    "</center>"
   ]
  },
  {
   "cell_type": "markdown",
   "metadata": {},
   "source": [
    "**복소수 크기 구하는법**\n",
    "<center>\n",
    "    <img src=\"./images/P01/abs.png\", alt=\"\">\n",
    "</center>"
   ]
  },
  {
   "cell_type": "code",
   "execution_count": 2,
   "metadata": {},
   "outputs": [
    {
     "name": "stdout",
     "output_type": "stream",
     "text": [
      "5.0 0.0 5\n"
     ]
    }
   ],
   "source": [
    "# 예제 입력 및 출력\n",
    "print(abs(3+4j), abs(-0.0), abs(-5))"
   ]
  },
  {
   "cell_type": "code",
   "execution_count": 43,
   "metadata": {},
   "outputs": [],
   "source": [
    "# 아래에 코드를 작성해주세요.\n",
    "def my_abs(x) :\n",
    "    if type(x) == int or type(x) == float:\n",
    "        if x < 0 :\n",
    "            return -x\n",
    "        else :\n",
    "            return x\n",
    "    elif type(x) == complex :\n",
    "        return (x.real ** 2 + x.imag ** 2) ** 0.5"
   ]
  },
  {
   "cell_type": "code",
   "execution_count": 44,
   "metadata": {
    "scrolled": false
   },
   "outputs": [
    {
     "name": "stdout",
     "output_type": "stream",
     "text": [
      "5.0 -0.0 5\n"
     ]
    }
   ],
   "source": [
    "# 해당 코드를 통해 5.0 0.0 5가 나오는지 확인하세요.\n",
    "print(my_abs(3+4j), my_abs(-0.0), my_abs(-5))"
   ]
  },
  {
   "cell_type": "markdown",
   "metadata": {},
   "source": [
    "# `all(x)`\n",
    "\n",
    "> all은 인자로 받는 iterable(range, list)의 모든 요소가 참이거나 비어있으면 True를 반환합니다.\n",
    ">\n",
    "> 이와 같은 my_all(x)을 작성해보세요"
   ]
  },
  {
   "cell_type": "code",
   "execution_count": 14,
   "metadata": {},
   "outputs": [
    {
     "name": "stdout",
     "output_type": "stream",
     "text": [
      "True\n",
      "False\n",
      "True\n"
     ]
    }
   ],
   "source": [
    "# 예제 입력 및 출력\n",
    "print(all([1, 2, 5, '6']))\n",
    "print(all([[], 2, 5, '6']))\n",
    "print(all([]))"
   ]
  },
  {
   "cell_type": "code",
   "execution_count": 14,
   "metadata": {},
   "outputs": [],
   "source": [
    "# 아래에 코드를 작성해주세요.\n",
    "def my_all(x) :\n",
    "    for i in x:\n",
    "        if not i:\n",
    "            return False\n",
    "    return True\n",
    "    \n",
    "#     if not x :\n",
    "#         return True\n",
    "#     else :\n",
    "#         for i in x :\n",
    "#             if i != True:\n",
    "#                 return False\n",
    "#         return True"
   ]
  },
  {
   "cell_type": "code",
   "execution_count": 16,
   "metadata": {},
   "outputs": [
    {
     "name": "stdout",
     "output_type": "stream",
     "text": [
      "True\n",
      "False\n",
      "True\n"
     ]
    }
   ],
   "source": [
    "# 해당 코드를 통해 True False가 나오는지 확인하세요.\n",
    "print(my_all([1, 2, 5, '6']))\n",
    "print(my_all([[], 2, 5, '6']))\n",
    "print(my_all([]))"
   ]
  },
  {
   "cell_type": "markdown",
   "metadata": {},
   "source": [
    "# `any(x)`\n",
    "\n",
    "> any는 인자로 받는 iterable(range, list)의 요소 중 하나라도 참이면 True를 반환하고, 비어있으면 False를 반환합니다.\n",
    ">\n",
    "> 이와 같은 my_any(x)를 작성해보세요."
   ]
  },
  {
   "cell_type": "code",
   "execution_count": 17,
   "metadata": {},
   "outputs": [
    {
     "name": "stdout",
     "output_type": "stream",
     "text": [
      "True\n",
      "True\n",
      "False\n"
     ]
    }
   ],
   "source": [
    "# 예제 입력 및 출력\n",
    "print(any([1, 2, 5, '6']))\n",
    "print(any([[], 2, 5, '6']))\n",
    "print(any([0]))"
   ]
  },
  {
   "cell_type": "code",
   "execution_count": 19,
   "metadata": {},
   "outputs": [],
   "source": [
    "# 아래에 코드를 작성해주세요.\n",
    "def my_any(x) :\n",
    "    for i in x:\n",
    "        if i:\n",
    "            return True\n",
    "    return False"
   ]
  },
  {
   "cell_type": "code",
   "execution_count": 22,
   "metadata": {},
   "outputs": [
    {
     "name": "stdout",
     "output_type": "stream",
     "text": [
      "True\n",
      "True\n",
      "False\n"
     ]
    }
   ],
   "source": [
    "# 해당 코드를 통해 True True False가 나오는지 확인하세요.\n",
    "print(my_any([1, 2, 5, '6']))\n",
    "print(my_any([[], 2, 5, '6']))\n",
    "print(my_any([0]))"
   ]
  },
  {
   "cell_type": "markdown",
   "metadata": {},
   "source": [
    "# `bin(x)` - 난이도 높음\n",
    "\n",
    "> `양의 정수`를 받아서 앞에 '0b'를 붙어 있는 2진수로 표현됩니다.\n",
    ">\n",
    "> 이와 같은 `my_bin(x)`를 작성해보세요.\n",
    "\n",
    "* 음수는 고려하지 않아도 됩니다."
   ]
  },
  {
   "cell_type": "markdown",
   "metadata": {},
   "source": [
    "<center>\n",
    "    <img src=\"./images/P01/bin.png\", alt=\"bin\">\n",
    "</center>"
   ]
  },
  {
   "cell_type": "code",
   "execution_count": 25,
   "metadata": {},
   "outputs": [
    {
     "name": "stdout",
     "output_type": "stream",
     "text": [
      "0b1000000000000 0b101\n"
     ]
    }
   ],
   "source": [
    "# bin 예제 입력 및 출력\n",
    "print(bin(4096), bin(5))"
   ]
  },
  {
   "cell_type": "code",
   "execution_count": 39,
   "metadata": {},
   "outputs": [],
   "source": [
    "# # 아래에 코드를 작성해주세요.\n",
    "# def my_bin(x) :\n",
    "#     temp = ''\n",
    "#     result = '0b'\n",
    "#     value1 = x\n",
    "#     value2 = x % 2\n",
    "#     temp += str(value2)\n",
    "#     while value1 > 1 :\n",
    "#         value1 = int(value1 / 2)\n",
    "#         value2 = value1 % 2\n",
    "#         temp += str(value2)\n",
    "#     for i in range(1, len(temp) + 1) :\n",
    "#         result += temp[-i]\n",
    "#     return result"
   ]
  },
  {
   "cell_type": "code",
   "execution_count": 43,
   "metadata": {},
   "outputs": [],
   "source": [
    "def my_bin(x) :\n",
    "    result = ''\n",
    "    value1 = x\n",
    "    value2 = x % 2\n",
    "    result = str(value2) + result\n",
    "    while value1 > 1 :\n",
    "        value1 = int(value1 / 2)\n",
    "        value2 = value1 % 2\n",
    "        result = str(value2) + result\n",
    "    result = '0b' + result\n",
    "    return result"
   ]
  },
  {
   "cell_type": "code",
   "execution_count": 44,
   "metadata": {},
   "outputs": [
    {
     "name": "stdout",
     "output_type": "stream",
     "text": [
      "0b1000000000000 0b101\n",
      "0b1000000000000 0b101\n"
     ]
    }
   ],
   "source": [
    "print(my_bin(4096), my_bin(5))\n",
    "print(bin(4096), bin(5))"
   ]
  },
  {
   "cell_type": "code",
   "execution_count": 47,
   "metadata": {},
   "outputs": [
    {
     "name": "stdout",
     "output_type": "stream",
     "text": [
      "1\n",
      "2\n",
      "3\n",
      "4\n",
      "5\n",
      "3 * 1 = 3\n",
      "3 * 2 = 6\n",
      "3 * 3 = 9\n",
      "3 * 4 = 12\n",
      "3 * 5 = 15\n",
      "3 * 6 = 18\n",
      "3 * 7 = 21\n",
      "3 * 8 = 24\n",
      "3 * 9 = 27\n",
      "4 * 1 = 4\n",
      "4 * 2 = 8\n",
      "4 * 3 = 12\n",
      "4 * 4 = 16\n",
      "4 * 5 = 20\n",
      "4 * 6 = 24\n",
      "4 * 7 = 28\n",
      "4 * 8 = 32\n",
      "4 * 9 = 36\n",
      "5 * 1 = 5\n",
      "5 * 2 = 10\n",
      "5 * 3 = 15\n",
      "5 * 4 = 20\n",
      "5 * 5 = 25\n",
      "5 * 6 = 30\n",
      "5 * 7 = 35\n",
      "5 * 8 = 40\n",
      "5 * 9 = 45\n"
     ]
    }
   ],
   "source": [
    "cnt = 1\n",
    "while cnt < 6 :\n",
    "    print(cnt)\n",
    "    cnt += 1\n",
    "    \n",
    "cnt1 = 3\n",
    "while cnt1 < 6 :\n",
    "    cnt2 = 1\n",
    "    while cnt2 < 10 :\n",
    "        print(f'{cnt1} * {cnt2} = {cnt1 * cnt2}')\n",
    "        cnt2 += 1\n",
    "    cnt1 += 1"
   ]
  }
 ],
 "metadata": {
  "kernelspec": {
   "display_name": "Python 3",
   "language": "python",
   "name": "python3"
  },
  "language_info": {
   "codemirror_mode": {
    "name": "ipython",
    "version": 3
   },
   "file_extension": ".py",
   "mimetype": "text/x-python",
   "name": "python",
   "nbconvert_exporter": "python",
   "pygments_lexer": "ipython3",
   "version": "3.6.2"
  },
  "toc": {
   "base_numbering": 1,
   "nav_menu": {},
   "number_sections": true,
   "sideBar": true,
   "skip_h1_title": false,
   "title_cell": "Table of Contents",
   "title_sidebar": "Contents",
   "toc_cell": false,
   "toc_position": {},
   "toc_section_display": true,
   "toc_window_display": false
  }
 },
 "nbformat": 4,
 "nbformat_minor": 2
}
