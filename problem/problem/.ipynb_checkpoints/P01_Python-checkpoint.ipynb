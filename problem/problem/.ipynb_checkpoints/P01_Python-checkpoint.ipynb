{
 "cells": [
  {
   "cell_type": "markdown",
   "metadata": {},
   "source": [
    "- 두 개의 정수 n과 m이 주어집니다. 반복문을 사용하지 않고 별(*) 문자를 이용해 가로의 길이가 n, 세로의 길이가 m인 직사각형 형태를 출력해보세요."
   ]
  },
  {
   "cell_type": "code",
   "execution_count": 33,
   "metadata": {},
   "outputs": [],
   "source": [
    "# 문제\n",
    "n = 5\n",
    "m = 9"
   ]
  },
  {
   "cell_type": "code",
   "execution_count": 34,
   "metadata": {},
   "outputs": [
    {
     "name": "stdout",
     "output_type": "stream",
     "text": [
      "*****\n",
      "*****\n",
      "*****\n",
      "*****\n",
      "*****\n",
      "*****\n",
      "*****\n",
      "*****\n",
      "*****\n",
      "*****\n",
      "*****\n",
      "*****\n",
      "*****\n",
      "*****\n",
      "*****\n",
      "*****\n",
      "*****\n",
      "*****\n",
      "*****\n",
      "*****\n",
      "*****\n",
      "*****\n",
      "*****\n",
      "*****\n",
      "*****\n",
      "*****\n",
      "*****\n",
      "\n"
     ]
    }
   ],
   "source": [
    "# 정답\n",
    "print('*****')\n",
    "print('*****')\n",
    "print('*****')\n",
    "print('*****')\n",
    "print('*****')\n",
    "print('*****')\n",
    "print('*****')\n",
    "print('*****')\n",
    "print('*****')\n",
    "print('*****\\n*****\\n*****\\n*****\\n*****\\n*****\\n*****\\n*****\\n*****')\n",
    "star = '*'\n",
    "stars = star * n\n",
    "print((stars + '\\n') * m)"
   ]
  },
  {
   "cell_type": "markdown",
   "metadata": {},
   "source": [
    "- 다음 딕셔너리에서 평균 점수를 출력하시오."
   ]
  },
  {
   "cell_type": "code",
   "execution_count": 4,
   "metadata": {},
   "outputs": [],
   "source": [
    "# 문제\n",
    "student = {'python': 80, 'algorithm': 99, 'django': 89, 'flask': 83}"
   ]
  },
  {
   "cell_type": "code",
   "execution_count": 52,
   "metadata": {},
   "outputs": [
    {
     "name": "stdout",
     "output_type": "stream",
     "text": [
      "87.75\n",
      "python\n",
      "algorithm\n",
      "django\n",
      "flask\n",
      "80\n",
      "99\n",
      "89\n",
      "83\n",
      "87.75\n"
     ]
    }
   ],
   "source": [
    "# 정답\n",
    "ave = (student['python'] + student['algorithm'] + student['django'] + student['flask']) / len(student)\n",
    "print(ave)\n",
    "sum = 0\n",
    "for subject in student.keys():\n",
    "    print(subject)\n",
    "for score in student.values():\n",
    "    print(score)\n",
    "    sum += score\n",
    "print(sum / len(student))"
   ]
  },
  {
   "cell_type": "markdown",
   "metadata": {},
   "source": [
    "- 다음은 학생들의 혈액형(A, B, AB, O)에 대한 데이터이다. for문을 이용하여 각 혈액형 별 학생수의 합계를 구하시오."
   ]
  },
  {
   "cell_type": "code",
   "execution_count": 26,
   "metadata": {},
   "outputs": [],
   "source": [
    "# 문제\n",
    "blood_types = ['A', 'B', 'A', 'O', 'AB', 'AB', 'O', 'A', 'B', 'O', 'B', 'AB']"
   ]
  },
  {
   "cell_type": "code",
   "execution_count": 59,
   "metadata": {},
   "outputs": [
    {
     "name": "stdout",
     "output_type": "stream",
     "text": [
      "A형 : 3, B형 : 3, AB형 : 3, O형 = 3\n",
      "A : 3\n",
      "B : 3\n",
      "O : 3\n",
      "AB : 3\n"
     ]
    }
   ],
   "source": [
    "# 정답\n",
    "a, b, ab, o = 0, 0, 0, 0\n",
    "for blood in blood_types:\n",
    "    if blood == 'A':\n",
    "        a += 1\n",
    "    elif blood == 'B':\n",
    "        b += 1\n",
    "    elif blood == 'AB':\n",
    "        ab += 1\n",
    "    else:\n",
    "        o += 1\n",
    "print(f'A형 : {a}, B형 : {b}, AB형 : {ab}, O형 = {o}')\n",
    "result = {}\n",
    "for blood in blood_types:\n",
    "    if blood not in result:\n",
    "        result[blood] = 1\n",
    "    else:\n",
    "        result[blood] += 1\n",
    "for key, value in result.items():\n",
    "    print(f'{key} : {value}')"
   ]
  },
  {
   "cell_type": "code",
   "execution_count": 53,
   "metadata": {},
   "outputs": [
    {
     "name": "stdout",
     "output_type": "stream",
     "text": [
      "Hi Tae Bye \n"
     ]
    }
   ],
   "source": [
    "arrays = ['Hi', 'Tae', 'Bye']\n",
    "stri = ''\n",
    "for array in arrays:\n",
    "   stri += array + ' '\n",
    "print(stri)"
   ]
  },
  {
   "cell_type": "code",
   "execution_count": 54,
   "metadata": {},
   "outputs": [
    {
     "name": "stdout",
     "output_type": "stream",
     "text": [
      "13 24\n"
     ]
    }
   ],
   "source": [
    "nums = {1:3, 2:5, 4:7, 6:9}\n",
    "result_key, result_value = 0, 0\n",
    "for key, value in nums.items() :\n",
    "    result_key += key\n",
    "    result_value += value\n",
    "print(result_key, result_value)"
   ]
  }
 ],
 "metadata": {
  "kernelspec": {
   "display_name": "Python 3",
   "language": "python",
   "name": "python3"
  },
  "language_info": {
   "codemirror_mode": {
    "name": "ipython",
    "version": 3
   },
   "file_extension": ".py",
   "mimetype": "text/x-python",
   "name": "python",
   "nbconvert_exporter": "python",
   "pygments_lexer": "ipython3",
   "version": "3.6.2"
  },
  "toc": {
   "base_numbering": 1,
   "nav_menu": {},
   "number_sections": true,
   "sideBar": true,
   "skip_h1_title": false,
   "title_cell": "Table of Contents",
   "title_sidebar": "Contents",
   "toc_cell": false,
   "toc_position": {},
   "toc_section_display": true,
   "toc_window_display": false
  }
 },
 "nbformat": 4,
 "nbformat_minor": 2
}
